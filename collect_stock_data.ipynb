{
 "cells": [
  {
   "cell_type": "code",
   "execution_count": 31,
   "id": "8f518889",
   "metadata": {},
   "outputs": [],
   "source": [
    "# collecting data\n",
    "import pandas as pd\n",
    "\n",
    "import pandas_datareader.data as web \n",
    "#for timeline specification\n",
    "import datetime as dt\n",
    "import matplotlib.pyplot as plt\n",
    "# to format dates\n",
    "import matplotlib.dates as mdates\n",
    "from matplotlib import style\n",
    "\n",
    "# showing all columns \n",
    "pd.set_option('display.max_columns', None)\n",
    "\n"
   ]
  },
  {
   "cell_type": "markdown",
   "id": "f41f70c6",
   "metadata": {},
   "source": [
    "### collecting stock data on GOOG / BTC"
   ]
  },
  {
   "cell_type": "code",
   "execution_count": 19,
   "id": "e9d9c2b8",
   "metadata": {},
   "outputs": [],
   "source": [
    "start = dt.datetime(2000, 1, 1)\n",
    "end = dt.datetime(2022, 8, 31)\n",
    "# top 10 tickers in S&P\n",
    "tickers = ['AAPL','MSFT','UNH']\n",
    "cc = \"BTC-USD\""
   ]
  },
  {
   "cell_type": "markdown",
   "id": "2a968985",
   "metadata": {},
   "source": [
    "### collecting data from yahoo using a web reader "
   ]
  },
  {
   "cell_type": "code",
   "execution_count": 20,
   "id": "8f47a7ba",
   "metadata": {},
   "outputs": [],
   "source": [
    "for ticker in tickers:   \n",
    "    data = web.DataReader(ticker, \"yahoo\", start, end)\n",
    "    # saving differnt csv for diferent tickers\n",
    "    data.to_csv(\"{}.csv\".format(ticker))"
   ]
  },
  {
   "cell_type": "code",
   "execution_count": 6,
   "id": "dde81e22",
   "metadata": {
    "scrolled": true
   },
   "outputs": [
    {
     "data": {
      "text/html": [
       "<div>\n",
       "<style scoped>\n",
       "    .dataframe tbody tr th:only-of-type {\n",
       "        vertical-align: middle;\n",
       "    }\n",
       "\n",
       "    .dataframe tbody tr th {\n",
       "        vertical-align: top;\n",
       "    }\n",
       "\n",
       "    .dataframe thead th {\n",
       "        text-align: right;\n",
       "    }\n",
       "</style>\n",
       "<table border=\"1\" class=\"dataframe\">\n",
       "  <thead>\n",
       "    <tr style=\"text-align: right;\">\n",
       "      <th></th>\n",
       "      <th>High</th>\n",
       "      <th>Low</th>\n",
       "      <th>Open</th>\n",
       "      <th>Close</th>\n",
       "      <th>Volume</th>\n",
       "      <th>Adj Close</th>\n",
       "    </tr>\n",
       "    <tr>\n",
       "      <th>Date</th>\n",
       "      <th></th>\n",
       "      <th></th>\n",
       "      <th></th>\n",
       "      <th></th>\n",
       "      <th></th>\n",
       "      <th></th>\n",
       "    </tr>\n",
       "  </thead>\n",
       "  <tbody>\n",
       "    <tr>\n",
       "      <th>2022-08-25</th>\n",
       "      <td>117.779999</td>\n",
       "      <td>115.050003</td>\n",
       "      <td>115.150002</td>\n",
       "      <td>117.699997</td>\n",
       "      <td>14874700.0</td>\n",
       "      <td>117.699997</td>\n",
       "    </tr>\n",
       "    <tr>\n",
       "      <th>2022-08-26</th>\n",
       "      <td>116.599998</td>\n",
       "      <td>111.220001</td>\n",
       "      <td>115.809998</td>\n",
       "      <td>111.300003</td>\n",
       "      <td>31698700.0</td>\n",
       "      <td>111.300003</td>\n",
       "    </tr>\n",
       "    <tr>\n",
       "      <th>2022-08-29</th>\n",
       "      <td>111.959999</td>\n",
       "      <td>109.809998</td>\n",
       "      <td>110.779999</td>\n",
       "      <td>110.339996</td>\n",
       "      <td>20386100.0</td>\n",
       "      <td>110.339996</td>\n",
       "    </tr>\n",
       "    <tr>\n",
       "      <th>2022-08-30</th>\n",
       "      <td>111.370003</td>\n",
       "      <td>108.800003</td>\n",
       "      <td>111.029999</td>\n",
       "      <td>109.910004</td>\n",
       "      <td>20548200.0</td>\n",
       "      <td>109.910004</td>\n",
       "    </tr>\n",
       "    <tr>\n",
       "      <th>2022-08-31</th>\n",
       "      <td>111.769997</td>\n",
       "      <td>109.050003</td>\n",
       "      <td>111.629997</td>\n",
       "      <td>109.150002</td>\n",
       "      <td>25898000.0</td>\n",
       "      <td>109.150002</td>\n",
       "    </tr>\n",
       "  </tbody>\n",
       "</table>\n",
       "</div>"
      ],
      "text/plain": [
       "                  High         Low        Open       Close      Volume  \\\n",
       "Date                                                                     \n",
       "2022-08-25  117.779999  115.050003  115.150002  117.699997  14874700.0   \n",
       "2022-08-26  116.599998  111.220001  115.809998  111.300003  31698700.0   \n",
       "2022-08-29  111.959999  109.809998  110.779999  110.339996  20386100.0   \n",
       "2022-08-30  111.370003  108.800003  111.029999  109.910004  20548200.0   \n",
       "2022-08-31  111.769997  109.050003  111.629997  109.150002  25898000.0   \n",
       "\n",
       "             Adj Close  \n",
       "Date                    \n",
       "2022-08-25  117.699997  \n",
       "2022-08-26  111.300003  \n",
       "2022-08-29  110.339996  \n",
       "2022-08-30  109.910004  \n",
       "2022-08-31  109.150002  "
      ]
     },
     "execution_count": 6,
     "metadata": {},
     "output_type": "execute_result"
    }
   ],
   "source": [
    "data.tail()"
   ]
  },
  {
   "cell_type": "markdown",
   "id": "52343d47",
   "metadata": {},
   "source": [
    "### btc prices"
   ]
  },
  {
   "cell_type": "code",
   "execution_count": 9,
   "id": "95ac45ba",
   "metadata": {},
   "outputs": [],
   "source": [
    "btc_data = web.DataReader(cc, \"yahoo\", start, end)"
   ]
  },
  {
   "cell_type": "code",
   "execution_count": 11,
   "id": "7c8ede48",
   "metadata": {},
   "outputs": [
    {
     "data": {
      "text/html": [
       "<div>\n",
       "<style scoped>\n",
       "    .dataframe tbody tr th:only-of-type {\n",
       "        vertical-align: middle;\n",
       "    }\n",
       "\n",
       "    .dataframe tbody tr th {\n",
       "        vertical-align: top;\n",
       "    }\n",
       "\n",
       "    .dataframe thead th {\n",
       "        text-align: right;\n",
       "    }\n",
       "</style>\n",
       "<table border=\"1\" class=\"dataframe\">\n",
       "  <thead>\n",
       "    <tr style=\"text-align: right;\">\n",
       "      <th></th>\n",
       "      <th>High</th>\n",
       "      <th>Low</th>\n",
       "      <th>Open</th>\n",
       "      <th>Close</th>\n",
       "      <th>Volume</th>\n",
       "      <th>Adj Close</th>\n",
       "    </tr>\n",
       "    <tr>\n",
       "      <th>Date</th>\n",
       "      <th></th>\n",
       "      <th></th>\n",
       "      <th></th>\n",
       "      <th></th>\n",
       "      <th></th>\n",
       "      <th></th>\n",
       "    </tr>\n",
       "  </thead>\n",
       "  <tbody>\n",
       "    <tr>\n",
       "      <th>2022-08-28</th>\n",
       "      <td>20139.054688</td>\n",
       "      <td>19616.814453</td>\n",
       "      <td>20041.035156</td>\n",
       "      <td>19616.814453</td>\n",
       "      <td>24366810591</td>\n",
       "      <td>19616.814453</td>\n",
       "    </tr>\n",
       "    <tr>\n",
       "      <th>2022-08-29</th>\n",
       "      <td>20357.462891</td>\n",
       "      <td>19600.785156</td>\n",
       "      <td>19615.154297</td>\n",
       "      <td>20297.994141</td>\n",
       "      <td>32637854078</td>\n",
       "      <td>20297.994141</td>\n",
       "    </tr>\n",
       "    <tr>\n",
       "      <th>2022-08-30</th>\n",
       "      <td>20542.644531</td>\n",
       "      <td>19617.640625</td>\n",
       "      <td>20298.611328</td>\n",
       "      <td>19796.808594</td>\n",
       "      <td>34483360283</td>\n",
       "      <td>19796.808594</td>\n",
       "    </tr>\n",
       "    <tr>\n",
       "      <th>2022-08-31</th>\n",
       "      <td>20420.990234</td>\n",
       "      <td>19799.582031</td>\n",
       "      <td>19799.582031</td>\n",
       "      <td>20049.763672</td>\n",
       "      <td>33225232872</td>\n",
       "      <td>20049.763672</td>\n",
       "    </tr>\n",
       "    <tr>\n",
       "      <th>2022-09-01</th>\n",
       "      <td>20198.390625</td>\n",
       "      <td>19653.968750</td>\n",
       "      <td>20050.498047</td>\n",
       "      <td>20127.140625</td>\n",
       "      <td>30182031010</td>\n",
       "      <td>20127.140625</td>\n",
       "    </tr>\n",
       "  </tbody>\n",
       "</table>\n",
       "</div>"
      ],
      "text/plain": [
       "                    High           Low          Open         Close  \\\n",
       "Date                                                                 \n",
       "2022-08-28  20139.054688  19616.814453  20041.035156  19616.814453   \n",
       "2022-08-29  20357.462891  19600.785156  19615.154297  20297.994141   \n",
       "2022-08-30  20542.644531  19617.640625  20298.611328  19796.808594   \n",
       "2022-08-31  20420.990234  19799.582031  19799.582031  20049.763672   \n",
       "2022-09-01  20198.390625  19653.968750  20050.498047  20127.140625   \n",
       "\n",
       "                 Volume     Adj Close  \n",
       "Date                                   \n",
       "2022-08-28  24366810591  19616.814453  \n",
       "2022-08-29  32637854078  20297.994141  \n",
       "2022-08-30  34483360283  19796.808594  \n",
       "2022-08-31  33225232872  20049.763672  \n",
       "2022-09-01  30182031010  20127.140625  "
      ]
     },
     "execution_count": 11,
     "metadata": {},
     "output_type": "execute_result"
    }
   ],
   "source": [
    "btc_data.tail()"
   ]
  },
  {
   "cell_type": "code",
   "execution_count": 23,
   "id": "c8d49937",
   "metadata": {},
   "outputs": [],
   "source": [
    "df = pd.read_csv(\"AAPL.csv\", parse_dates = True,\n",
    "                index_col = \"Date\")"
   ]
  },
  {
   "cell_type": "code",
   "execution_count": 25,
   "id": "32e99317",
   "metadata": {},
   "outputs": [
    {
     "data": {
      "text/html": [
       "<div>\n",
       "<style scoped>\n",
       "    .dataframe tbody tr th:only-of-type {\n",
       "        vertical-align: middle;\n",
       "    }\n",
       "\n",
       "    .dataframe tbody tr th {\n",
       "        vertical-align: top;\n",
       "    }\n",
       "\n",
       "    .dataframe thead th {\n",
       "        text-align: right;\n",
       "    }\n",
       "</style>\n",
       "<table border=\"1\" class=\"dataframe\">\n",
       "  <thead>\n",
       "    <tr style=\"text-align: right;\">\n",
       "      <th></th>\n",
       "      <th>High</th>\n",
       "      <th>Low</th>\n",
       "      <th>Open</th>\n",
       "      <th>Close</th>\n",
       "      <th>Volume</th>\n",
       "      <th>Adj Close</th>\n",
       "    </tr>\n",
       "    <tr>\n",
       "      <th>Date</th>\n",
       "      <th></th>\n",
       "      <th></th>\n",
       "      <th></th>\n",
       "      <th></th>\n",
       "      <th></th>\n",
       "      <th></th>\n",
       "    </tr>\n",
       "  </thead>\n",
       "  <tbody>\n",
       "    <tr>\n",
       "      <th>2000-01-03</th>\n",
       "      <td>1.004464</td>\n",
       "      <td>0.907924</td>\n",
       "      <td>0.936384</td>\n",
       "      <td>0.999442</td>\n",
       "      <td>535796800.0</td>\n",
       "      <td>0.853355</td>\n",
       "    </tr>\n",
       "    <tr>\n",
       "      <th>2000-01-04</th>\n",
       "      <td>0.987723</td>\n",
       "      <td>0.903460</td>\n",
       "      <td>0.966518</td>\n",
       "      <td>0.915179</td>\n",
       "      <td>512377600.0</td>\n",
       "      <td>0.781409</td>\n",
       "    </tr>\n",
       "    <tr>\n",
       "      <th>2000-01-05</th>\n",
       "      <td>0.987165</td>\n",
       "      <td>0.919643</td>\n",
       "      <td>0.926339</td>\n",
       "      <td>0.928571</td>\n",
       "      <td>778321600.0</td>\n",
       "      <td>0.792844</td>\n",
       "    </tr>\n",
       "    <tr>\n",
       "      <th>2000-01-06</th>\n",
       "      <td>0.955357</td>\n",
       "      <td>0.848214</td>\n",
       "      <td>0.947545</td>\n",
       "      <td>0.848214</td>\n",
       "      <td>767972800.0</td>\n",
       "      <td>0.724232</td>\n",
       "    </tr>\n",
       "    <tr>\n",
       "      <th>2000-01-07</th>\n",
       "      <td>0.901786</td>\n",
       "      <td>0.852679</td>\n",
       "      <td>0.861607</td>\n",
       "      <td>0.888393</td>\n",
       "      <td>460734400.0</td>\n",
       "      <td>0.758538</td>\n",
       "    </tr>\n",
       "  </tbody>\n",
       "</table>\n",
       "</div>"
      ],
      "text/plain": [
       "                High       Low      Open     Close       Volume  Adj Close\n",
       "Date                                                                      \n",
       "2000-01-03  1.004464  0.907924  0.936384  0.999442  535796800.0   0.853355\n",
       "2000-01-04  0.987723  0.903460  0.966518  0.915179  512377600.0   0.781409\n",
       "2000-01-05  0.987165  0.919643  0.926339  0.928571  778321600.0   0.792844\n",
       "2000-01-06  0.955357  0.848214  0.947545  0.848214  767972800.0   0.724232\n",
       "2000-01-07  0.901786  0.852679  0.861607  0.888393  460734400.0   0.758538"
      ]
     },
     "execution_count": 25,
     "metadata": {},
     "output_type": "execute_result"
    }
   ],
   "source": [
    "df.head()"
   ]
  },
  {
   "cell_type": "code",
   "execution_count": 34,
   "id": "b5234e25",
   "metadata": {},
   "outputs": [
    {
     "data": {
      "image/png": "[encoded data removed]",
      "text/plain": [
       "<Figure size 864x576 with 2 Axes>"
      ]
     },
     "metadata": {
      "needs_background": "light"
     },
     "output_type": "display_data"
    }
   ],
   "source": [
    "#visualizing volume and price\n",
    "top_plt = plt.subplot2grid((5,4), (0, 0), rowspan=3, colspan=4)\n",
    "top_plt.plot(df.index, df[\"Close\"])\n",
    "plt.title('Historical stock prices of AAPL 500. [2000/01/03 to 2022/8/31]')\n",
    "bottom_plt = plt.subplot2grid((5,4), (3,0), rowspan=1, colspan=4)\n",
    "bottom_plt.bar(df.index, df['Volume'])\n",
    "plt.title('\\nAAPL. Trading Volume', y=-0.60)\n",
    "plt.gcf().set_size_inches(12,8)\n",
    "# plt.savefig(\"AAPL.png\")"
   ]
  },
  {
   "cell_type": "code",
   "execution_count": null,
   "id": "b170106b",
   "metadata": {},
   "outputs": [],
   "source": []
  }
 ],
 "metadata": {
  "hide_input": false,
  "kernelspec": {
   "display_name": "Python 3 (ipykernel)",
   "language": "python",
   "name": "python3"
  },
  "language_info": {
   "codemirror_mode": {
    "name": "ipython",
    "version": 3
   },
   "file_extension": ".py",
   "mimetype": "text/x-python",
   "name": "python",
   "nbconvert_exporter": "python",
   "pygments_lexer": "ipython3",
   "version": "3.9.7"
  }
 },
 "nbformat": 4,
 "nbformat_minor": 5
}
