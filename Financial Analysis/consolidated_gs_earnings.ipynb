{
 "cells": [
  {
   "cell_type": "code",
   "execution_count": 1,
   "id": "4638518b",
   "metadata": {},
   "outputs": [],
   "source": [
    "import pandas as pd"
   ]
  },
  {
   "cell_type": "code",
   "execution_count": 2,
   "id": "85941cfe",
   "metadata": {},
   "outputs": [],
   "source": [
    "xls1 = pd.ExcelFile(\"GS1.xlsx\")\n",
    "xls3 = pd.ExcelFile(\"GS3.xlsx\")"
   ]
  },
  {
   "cell_type": "code",
   "execution_count": 3,
   "id": "d83f1f95",
   "metadata": {},
   "outputs": [],
   "source": [
    "df1 = pd.read_excel(xls1, \"Consolidated Statements of Earn\")\n",
    "df3 = pd.read_excel(xls3, \"Consolidated Statements of Earn\")\n"
   ]
  },
  {
   "cell_type": "code",
   "execution_count": 4,
   "id": "1ccd0334",
   "metadata": {},
   "outputs": [
    {
     "data": {
      "text/html": [
       "<div>\n",
       "<style scoped>\n",
       "    .dataframe tbody tr th:only-of-type {\n",
       "        vertical-align: middle;\n",
       "    }\n",
       "\n",
       "    .dataframe tbody tr th {\n",
       "        vertical-align: top;\n",
       "    }\n",
       "\n",
       "    .dataframe thead th {\n",
       "        text-align: right;\n",
       "    }\n",
       "</style>\n",
       "<table border=\"1\" class=\"dataframe\">\n",
       "  <thead>\n",
       "    <tr style=\"text-align: right;\">\n",
       "      <th></th>\n",
       "      <th>Earnings</th>\n",
       "      <th>Dec. 31, 2021</th>\n",
       "      <th>Dec. 31, 2020</th>\n",
       "      <th>Dec. 31, 2019</th>\n",
       "    </tr>\n",
       "  </thead>\n",
       "  <tbody>\n",
       "    <tr>\n",
       "      <th>0</th>\n",
       "      <td>Investment banking</td>\n",
       "      <td>14168.0</td>\n",
       "      <td>9141.0</td>\n",
       "      <td>6798.0</td>\n",
       "    </tr>\n",
       "    <tr>\n",
       "      <th>1</th>\n",
       "      <td>Investment management</td>\n",
       "      <td>8059.0</td>\n",
       "      <td>6923.0</td>\n",
       "      <td>6189.0</td>\n",
       "    </tr>\n",
       "    <tr>\n",
       "      <th>2</th>\n",
       "      <td>Commissions and fees</td>\n",
       "      <td>3619.0</td>\n",
       "      <td>3548.0</td>\n",
       "      <td>2988.0</td>\n",
       "    </tr>\n",
       "    <tr>\n",
       "      <th>3</th>\n",
       "      <td>Market making</td>\n",
       "      <td>15352.0</td>\n",
       "      <td>15546.0</td>\n",
       "      <td>10157.0</td>\n",
       "    </tr>\n",
       "    <tr>\n",
       "      <th>4</th>\n",
       "      <td>Other principal transactions</td>\n",
       "      <td>11671.0</td>\n",
       "      <td>4651.0</td>\n",
       "      <td>6052.0</td>\n",
       "    </tr>\n",
       "  </tbody>\n",
       "</table>\n",
       "</div>"
      ],
      "text/plain": [
       "                      Earnings   Dec. 31, 2021  Dec. 31, 2020  Dec. 31, 2019\n",
       "0            Investment banking        14168.0         9141.0         6798.0\n",
       "1         Investment management         8059.0         6923.0         6189.0\n",
       "2          Commissions and fees         3619.0         3548.0         2988.0\n",
       "3                 Market making        15352.0        15546.0        10157.0\n",
       "4  Other principal transactions        11671.0         4651.0         6052.0"
      ]
     },
     "execution_count": 4,
     "metadata": {},
     "output_type": "execute_result"
    }
   ],
   "source": [
    "# df1 = df1.iloc[1:]\n",
    "df1.head()\n"
   ]
  },
  {
   "cell_type": "code",
   "execution_count": 5,
   "id": "b368403c",
   "metadata": {},
   "outputs": [
    {
     "data": {
      "text/html": [
       "<div>\n",
       "<style scoped>\n",
       "    .dataframe tbody tr th:only-of-type {\n",
       "        vertical-align: middle;\n",
       "    }\n",
       "\n",
       "    .dataframe tbody tr th {\n",
       "        vertical-align: top;\n",
       "    }\n",
       "\n",
       "    .dataframe thead th {\n",
       "        text-align: right;\n",
       "    }\n",
       "</style>\n",
       "<table border=\"1\" class=\"dataframe\">\n",
       "  <thead>\n",
       "    <tr style=\"text-align: right;\">\n",
       "      <th></th>\n",
       "      <th>Earnings</th>\n",
       "      <th>Dec. 31, 2019</th>\n",
       "      <th>Dec. 31, 2018</th>\n",
       "      <th>Dec. 31, 2017</th>\n",
       "    </tr>\n",
       "  </thead>\n",
       "  <tbody>\n",
       "    <tr>\n",
       "      <th>0</th>\n",
       "      <td>Investment banking</td>\n",
       "      <td>6798.0</td>\n",
       "      <td>7430.0</td>\n",
       "      <td>7076.0</td>\n",
       "    </tr>\n",
       "    <tr>\n",
       "      <th>1</th>\n",
       "      <td>Investment management</td>\n",
       "      <td>6189.0</td>\n",
       "      <td>6590.0</td>\n",
       "      <td>5867.0</td>\n",
       "    </tr>\n",
       "    <tr>\n",
       "      <th>2</th>\n",
       "      <td>Commissions and fees</td>\n",
       "      <td>2988.0</td>\n",
       "      <td>3199.0</td>\n",
       "      <td>3051.0</td>\n",
       "    </tr>\n",
       "    <tr>\n",
       "      <th>3</th>\n",
       "      <td>Market making</td>\n",
       "      <td>10157.0</td>\n",
       "      <td>9724.0</td>\n",
       "      <td>7853.0</td>\n",
       "    </tr>\n",
       "    <tr>\n",
       "      <th>4</th>\n",
       "      <td>Other principal transactions</td>\n",
       "      <td>6052.0</td>\n",
       "      <td>5906.0</td>\n",
       "      <td>5951.0</td>\n",
       "    </tr>\n",
       "  </tbody>\n",
       "</table>\n",
       "</div>"
      ],
      "text/plain": [
       "                      Earnings   Dec. 31, 2019  Dec. 31, 2018  Dec. 31, 2017\n",
       "0            Investment banking         6798.0         7430.0         7076.0\n",
       "1         Investment management         6189.0         6590.0         5867.0\n",
       "2          Commissions and fees         2988.0         3199.0         3051.0\n",
       "3                 Market making        10157.0         9724.0         7853.0\n",
       "4  Other principal transactions         6052.0         5906.0         5951.0"
      ]
     },
     "execution_count": 5,
     "metadata": {},
     "output_type": "execute_result"
    }
   ],
   "source": [
    "df3.head()"
   ]
  },
  {
   "cell_type": "code",
   "execution_count": 6,
   "id": "8df3131c",
   "metadata": {},
   "outputs": [],
   "source": [
    "df3 = df3.drop(df3.columns[1], axis = 1)\n"
   ]
  },
  {
   "cell_type": "code",
   "execution_count": 7,
   "id": "c41d6d0d",
   "metadata": {},
   "outputs": [
    {
     "name": "stdout",
     "output_type": "stream",
     "text": [
      "<class 'pandas.core.frame.DataFrame'>\n",
      "RangeIndex: 32 entries, 0 to 31\n",
      "Data columns (total 4 columns):\n",
      " #   Column         Non-Null Count  Dtype  \n",
      "---  ------         --------------  -----  \n",
      " 0   Earnings       32 non-null     object \n",
      " 1   Dec. 31, 2021  29 non-null     float64\n",
      " 2   Dec. 31, 2020  29 non-null     float64\n",
      " 3   Dec. 31, 2019  29 non-null     float64\n",
      "dtypes: float64(3), object(1)\n",
      "memory usage: 1.1+ KB\n"
     ]
    }
   ],
   "source": [
    "df1.info()"
   ]
  },
  {
   "cell_type": "code",
   "execution_count": 8,
   "id": "fd7f6322",
   "metadata": {},
   "outputs": [],
   "source": [
    "df1.dropna(inplace = True)"
   ]
  },
  {
   "cell_type": "code",
   "execution_count": 9,
   "id": "c4fa92d2",
   "metadata": {},
   "outputs": [],
   "source": [
    "df3.dropna(inplace = True)"
   ]
  },
  {
   "cell_type": "code",
   "execution_count": null,
   "id": "0c67d6f6",
   "metadata": {},
   "outputs": [],
   "source": []
  },
  {
   "cell_type": "code",
   "execution_count": 13,
   "id": "041649d3",
   "metadata": {},
   "outputs": [],
   "source": [
    "df1.columns = df1.columns.str.strip()"
   ]
  },
  {
   "cell_type": "code",
   "execution_count": 15,
   "id": "34a14490",
   "metadata": {},
   "outputs": [],
   "source": [
    "df3.columns = df3.columns.str.strip()"
   ]
  },
  {
   "cell_type": "code",
   "execution_count": 16,
   "id": "f1ad000c",
   "metadata": {},
   "outputs": [],
   "source": [
    "result = pd.merge(df1,df3,how = \"right\", on = \"Earnings\")"
   ]
  },
  {
   "cell_type": "code",
   "execution_count": 21,
   "id": "ae4b8095",
   "metadata": {},
   "outputs": [],
   "source": [
    "result.rename(columns = {\"Dec. 31, 2021\":\"Dec2021\",\"Dec. 31, 2020\":\"Dec2020\",\"Dec. 31, 2019\":\"Dec2019\",\"Dec. 31, 2018\":\"Dec2018\", \"Dec. 31, 2017\":\"Dec2017\" },inplace = True)"
   ]
  },
  {
   "cell_type": "code",
   "execution_count": 22,
   "id": "32ebc9f1",
   "metadata": {},
   "outputs": [
    {
     "data": {
      "text/html": [
       "<div>\n",
       "<style scoped>\n",
       "    .dataframe tbody tr th:only-of-type {\n",
       "        vertical-align: middle;\n",
       "    }\n",
       "\n",
       "    .dataframe tbody tr th {\n",
       "        vertical-align: top;\n",
       "    }\n",
       "\n",
       "    .dataframe thead th {\n",
       "        text-align: right;\n",
       "    }\n",
       "</style>\n",
       "<table border=\"1\" class=\"dataframe\">\n",
       "  <thead>\n",
       "    <tr style=\"text-align: right;\">\n",
       "      <th></th>\n",
       "      <th>Earnings</th>\n",
       "      <th>Dec2021</th>\n",
       "      <th>Dec2020</th>\n",
       "      <th>Dec2019</th>\n",
       "      <th>Dec2018</th>\n",
       "      <th>Dec2017</th>\n",
       "    </tr>\n",
       "  </thead>\n",
       "  <tbody>\n",
       "    <tr>\n",
       "      <th>0</th>\n",
       "      <td>Investment banking</td>\n",
       "      <td>14168.0</td>\n",
       "      <td>9141.0</td>\n",
       "      <td>6798.0</td>\n",
       "      <td>7430.0</td>\n",
       "      <td>7076.0</td>\n",
       "    </tr>\n",
       "    <tr>\n",
       "      <th>1</th>\n",
       "      <td>Investment management</td>\n",
       "      <td>8059.0</td>\n",
       "      <td>6923.0</td>\n",
       "      <td>6189.0</td>\n",
       "      <td>6590.0</td>\n",
       "      <td>5867.0</td>\n",
       "    </tr>\n",
       "    <tr>\n",
       "      <th>2</th>\n",
       "      <td>Commissions and fees</td>\n",
       "      <td>3619.0</td>\n",
       "      <td>3548.0</td>\n",
       "      <td>2988.0</td>\n",
       "      <td>3199.0</td>\n",
       "      <td>3051.0</td>\n",
       "    </tr>\n",
       "    <tr>\n",
       "      <th>3</th>\n",
       "      <td>Market making</td>\n",
       "      <td>15352.0</td>\n",
       "      <td>15546.0</td>\n",
       "      <td>10157.0</td>\n",
       "      <td>9724.0</td>\n",
       "      <td>7853.0</td>\n",
       "    </tr>\n",
       "    <tr>\n",
       "      <th>4</th>\n",
       "      <td>Other principal transactions</td>\n",
       "      <td>11671.0</td>\n",
       "      <td>4651.0</td>\n",
       "      <td>6052.0</td>\n",
       "      <td>5906.0</td>\n",
       "      <td>5951.0</td>\n",
       "    </tr>\n",
       "  </tbody>\n",
       "</table>\n",
       "</div>"
      ],
      "text/plain": [
       "                       Earnings  Dec2021  Dec2020  Dec2019  Dec2018  Dec2017\n",
       "0            Investment banking  14168.0   9141.0   6798.0   7430.0   7076.0\n",
       "1         Investment management   8059.0   6923.0   6189.0   6590.0   5867.0\n",
       "2          Commissions and fees   3619.0   3548.0   2988.0   3199.0   3051.0\n",
       "3                 Market making  15352.0  15546.0  10157.0   9724.0   7853.0\n",
       "4  Other principal transactions  11671.0   4651.0   6052.0   5906.0   5951.0"
      ]
     },
     "execution_count": 22,
     "metadata": {},
     "output_type": "execute_result"
    }
   ],
   "source": [
    "result.head()"
   ]
  },
  {
   "cell_type": "code",
   "execution_count": 28,
   "id": "da6adcf8",
   "metadata": {},
   "outputs": [],
   "source": [
    "result.set_index(\"Earnings\",inplace = True)"
   ]
  },
  {
   "cell_type": "code",
   "execution_count": 32,
   "id": "5292adeb",
   "metadata": {},
   "outputs": [],
   "source": [
    "result.to_csv(\"gs_earnings.csv\")"
   ]
  },
  {
   "cell_type": "code",
   "execution_count": null,
   "id": "fc72ae7b",
   "metadata": {},
   "outputs": [],
   "source": []
  },
  {
   "cell_type": "code",
   "execution_count": null,
   "id": "74b4f679",
   "metadata": {},
   "outputs": [],
   "source": []
  },
  {
   "cell_type": "code",
   "execution_count": null,
   "id": "1c19aecc",
   "metadata": {},
   "outputs": [],
   "source": []
  }
 ],
 "metadata": {
  "hide_input": false,
  "kernelspec": {
   "display_name": "Python 3 (ipykernel)",
   "language": "python",
   "name": "python3"
  },
  "language_info": {
   "codemirror_mode": {
    "name": "ipython",
    "version": 3
   },
   "file_extension": ".py",
   "mimetype": "text/x-python",
   "name": "python",
   "nbconvert_exporter": "python",
   "pygments_lexer": "ipython3",
   "version": "3.9.7"
  }
 },
 "nbformat": 4,
 "nbformat_minor": 5
}
